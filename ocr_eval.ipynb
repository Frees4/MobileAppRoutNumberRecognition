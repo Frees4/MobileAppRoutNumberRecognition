{
 "cells": [
  {
   "cell_type": "code",
   "execution_count": 1,
   "metadata": {},
   "outputs": [],
   "source": [
    "import pytesseract\n",
    "from PIL import Image\n",
    "import os"
   ]
  },
  {
   "cell_type": "code",
   "execution_count": 13,
   "metadata": {},
   "outputs": [
    {
     "data": {
      "text/plain": [
       "'AMD64 Family 23 Model 24 Stepping 1, AuthenticAMD'"
      ]
     },
     "execution_count": 13,
     "metadata": {},
     "output_type": "execute_result"
    }
   ],
   "source": [
    "import platform\n",
    "platform.processor()"
   ]
  },
  {
   "cell_type": "code",
   "execution_count": 2,
   "metadata": {},
   "outputs": [],
   "source": [
    "pytesseract.pytesseract.tesseract_cmd = r'C:\\Users\\Frees\\PTProject\\Tesseract-OCR\\tesseract.exe'"
   ]
  },
  {
   "cell_type": "code",
   "execution_count": 3,
   "metadata": {},
   "outputs": [],
   "source": [
    "truth = {'0.jpg': '15', '1.jpg': 'м86', '2.jpg': '31', '3.jpg': '27', '4.jpg': '100', '5.jpg': '32', '6.jpg': '205',\n",
    "         '7.jpg': '19', '8.jpg': '95', '9.jpg': '14', '10.jpg': '38', '11.jpg': 'Б', '12.jpg': '51', '13.jpg': '69',\n",
    "         '14.jpg': '2', '15.jpg': 'м2', '16.jpg': '22', '17.jpg': '833', '18.jpg': 'м27', '19.jpg': '31', '20.jpg': '30',\n",
    "         '21.jpg': 'т34', '22.jpg': '11', '23.jpg': 'т34', '24.jpg': '24'}"
   ]
  },
  {
   "cell_type": "code",
   "execution_count": 4,
   "metadata": {},
   "outputs": [
    {
     "name": "stdout",
     "output_type": "stream",
     "text": [
      "True: 15 Tesseract: \n",
      "True: м86 Tesseract: \n",
      "True: 38 Tesseract: \n",
      "True: Б Tesseract: \n",
      "True: 51 Tesseract: \n",
      "True: 69 Tesseract: \n",
      "True: 2 Tesseract: 6\n",
      "\n",
      "True: м2 Tesseract: \n",
      "True: 22 Tesseract: \n",
      "True: 833 Tesseract: \n",
      "True: м27 Tesseract: м27\n",
      "\n",
      "True: 31 Tesseract: \n",
      "True: 31 Tesseract: \n",
      "True: 30 Tesseract: 30\n",
      "\n",
      "True: т34 Tesseract: 134\n",
      "\n",
      "True: 11 Tesseract: \n",
      "True: т34 Tesseract: \n",
      "True: 24 Tesseract: 2А\n",
      "\n",
      "True: 27 Tesseract: \n",
      "True: 100 Tesseract: \n",
      "True: 32 Tesseract: \n",
      "True: 205 Tesseract: \n",
      "True: 19 Tesseract: \n",
      "True: 95 Tesseract: \n",
      "True: 14 Tesseract: \n"
     ]
    }
   ],
   "source": [
    "for path in os.listdir('test_ocr'):\n",
    "    print(\"True: \" + truth[path] + \" Tesseract: \" + pytesseract.image_to_string(Image.open('test_ocr/' + path), lang='foo'))"
   ]
  },
  {
   "cell_type": "code",
   "execution_count": 5,
   "metadata": {},
   "outputs": [
    {
     "name": "stdout",
     "output_type": "stream",
     "text": [
      "True: 15 Tesseract: \n",
      "True: м86 Tesseract: \n",
      "True: 38 Tesseract: \n",
      "True: Б Tesseract: \n",
      "True: 51 Tesseract: \n",
      "True: 69 Tesseract: \n",
      "True: 2 Tesseract: 6\n",
      "\n",
      "True: м2 Tesseract: \n",
      "True: 22 Tesseract: \n",
      "True: 833 Tesseract: \n",
      "True: м27 Tesseract: м27\n",
      "\n",
      "True: 31 Tesseract: \n",
      "True: 31 Tesseract: \n",
      "True: 30 Tesseract: 30\n",
      "\n",
      "True: т34 Tesseract: 134\n",
      "\n",
      "True: 11 Tesseract: \n",
      "True: т34 Tesseract: \n",
      "True: 24 Tesseract: 2А\n",
      "\n",
      "True: 27 Tesseract: \n",
      "True: 100 Tesseract: \n",
      "True: 32 Tesseract: \n",
      "True: 205 Tesseract: \n",
      "True: 19 Tesseract: \n",
      "True: 95 Tesseract: \n",
      "True: 14 Tesseract: \n",
      "--- 3.290168523788452 seconds ---\n"
     ]
    }
   ],
   "source": [
    "import time\n",
    "start_time = time.time()\n",
    "for path in os.listdir('test_ocr'):\n",
    "    print(\"True: \" + truth[path] + \" Tesseract: \" + pytesseract.image_to_string(Image.open('test_ocr/' + path), lang='foo'))\n",
    "print(\"--- %s seconds ---\" % (time.time() - start_time))"
   ]
  },
  {
   "cell_type": "code",
   "execution_count": null,
   "metadata": {},
   "outputs": [],
   "source": []
  },
  {
   "cell_type": "code",
   "execution_count": 6,
   "metadata": {},
   "outputs": [],
   "source": [
    "import easyocr"
   ]
  },
  {
   "cell_type": "code",
   "execution_count": 7,
   "metadata": {
    "scrolled": true
   },
   "outputs": [
    {
     "name": "stderr",
     "output_type": "stream",
     "text": [
      "CUDA not available - defaulting to CPU. Note: This module is much faster with a GPU.\n"
     ]
    }
   ],
   "source": [
    "reader = easyocr.Reader(['ru', 'en'], recog_network='custom_example')"
   ]
  },
  {
   "cell_type": "code",
   "execution_count": 31,
   "metadata": {},
   "outputs": [
    {
     "name": "stdout",
     "output_type": "stream",
     "text": [
      "True: 15 EasyOCR: ['1']\n",
      "True: м86 EasyOCR: ['1']\n",
      "True: 38 EasyOCR: ['4']\n",
      "True: Б EasyOCR: ['14']\n",
      "True: 51 EasyOCR: ['4']\n",
      "True: 69 EasyOCR: ['1']\n",
      "True: 2 EasyOCR: ['1']\n",
      "True: м2 EasyOCR: ['14']\n",
      "True: 22 EasyOCR: ['2']\n",
      "True: 833 EasyOCR: ['4']\n",
      "True: м27 EasyOCR: ['2']\n",
      "True: 31 EasyOCR: ['44']\n",
      "True: 31 EasyOCR: ['44']\n",
      "True: 30 EasyOCR: ['4']\n",
      "True: т34 EasyOCR: ['4']\n",
      "True: 11 EasyOCR: ['40']\n",
      "True: т34 EasyOCR: ['4']\n",
      "True: 24 EasyOCR: ['9']\n",
      "True: 27 EasyOCR: ['4']\n",
      "True: 100 EasyOCR: ['10']\n",
      "True: 32 EasyOCR: ['4']\n",
      "True: 205 EasyOCR: ['1']\n",
      "True: 19 EasyOCR: ['4']\n",
      "True: 95 EasyOCR: ['1']\n",
      "True: 14 EasyOCR: ['4']\n"
     ]
    }
   ],
   "source": [
    "for path in os.listdir('test_ocr'):\n",
    "    print(\"True: \" + truth[path] + \" EasyOCR: \" + str(reader.recognize('test_ocr/' + path, detail=0)))"
   ]
  },
  {
   "cell_type": "code",
   "execution_count": 8,
   "metadata": {},
   "outputs": [
    {
     "name": "stdout",
     "output_type": "stream",
     "text": [
      "True: 15 EasyOCR: ['1']\n",
      "True: м86 EasyOCR: ['1']\n",
      "True: 38 EasyOCR: ['4']\n",
      "True: Б EasyOCR: ['14']\n",
      "True: 51 EasyOCR: ['4']\n",
      "True: 69 EasyOCR: ['1']\n",
      "True: 2 EasyOCR: ['1']\n",
      "True: м2 EasyOCR: ['14']\n",
      "True: 22 EasyOCR: ['2']\n",
      "True: 833 EasyOCR: ['4']\n",
      "True: м27 EasyOCR: ['2']\n",
      "True: 31 EasyOCR: ['44']\n",
      "True: 31 EasyOCR: ['44']\n",
      "True: 30 EasyOCR: ['4']\n",
      "True: т34 EasyOCR: ['4']\n",
      "True: 11 EasyOCR: ['40']\n",
      "True: т34 EasyOCR: ['4']\n",
      "True: 24 EasyOCR: ['9']\n",
      "True: 27 EasyOCR: ['4']\n",
      "True: 100 EasyOCR: ['10']\n",
      "True: 32 EasyOCR: ['4']\n",
      "True: 205 EasyOCR: ['1']\n",
      "True: 19 EasyOCR: ['4']\n",
      "True: 95 EasyOCR: ['1']\n",
      "True: 14 EasyOCR: ['4']\n",
      "--- 1.9724431037902832 seconds ---\n"
     ]
    }
   ],
   "source": [
    "import time\n",
    "start_time = time.time()\n",
    "for path in os.listdir('test_ocr'):\n",
    "    print(\"True: \" + truth[path] + \" EasyOCR: \" + str(reader.recognize('test_ocr/' + path, detail=0)))\n",
    "print(\"--- %s seconds ---\" % (time.time() - start_time))"
   ]
  },
  {
   "cell_type": "code",
   "execution_count": 32,
   "metadata": {},
   "outputs": [
    {
     "name": "stdout",
     "output_type": "stream",
     "text": [
      "Requirement already satisfied: paddleocr>=2.0.1 in c:\\users\\frees\\anaconda3\\lib\\site-packages (2.4)\n",
      "Requirement already satisfied: cython in c:\\users\\frees\\anaconda3\\lib\\site-packages (from paddleocr>=2.0.1) (0.29.21)\n",
      "Requirement already satisfied: imgaug==0.4.0 in c:\\users\\frees\\anaconda3\\lib\\site-packages (from paddleocr>=2.0.1) (0.4.0)\n",
      "Requirement already satisfied: scikit-image in c:\\users\\frees\\anaconda3\\lib\\site-packages (from paddleocr>=2.0.1) (0.17.2)\n",
      "Requirement already satisfied: lxml in c:\\users\\frees\\anaconda3\\lib\\site-packages (from paddleocr>=2.0.1) (4.6.1)\n",
      "Requirement already satisfied: numpy in c:\\users\\frees\\anaconda3\\lib\\site-packages (from paddleocr>=2.0.1) (1.19.2)\n",
      "Requirement already satisfied: lmdb in c:\\users\\frees\\anaconda3\\lib\\site-packages (from paddleocr>=2.0.1) (1.3.0)\n",
      "Requirement already satisfied: pyclipper in c:\\users\\frees\\anaconda3\\lib\\site-packages (from paddleocr>=2.0.1) (1.3.0.post2)\n",
      "Requirement already satisfied: premailer in c:\\users\\frees\\anaconda3\\lib\\site-packages (from paddleocr>=2.0.1) (3.10.0)\n",
      "Requirement already satisfied: visualdl in c:\\users\\frees\\anaconda3\\lib\\site-packages (from paddleocr>=2.0.1) (2.2.3)\n",
      "Requirement already satisfied: paddlenlp>=2.2.1 in c:\\users\\frees\\anaconda3\\lib\\site-packages (from paddleocr>=2.0.1) (2.2.4)\n",
      "Requirement already satisfied: shapely in c:\\users\\frees\\anaconda3\\lib\\site-packages (from paddleocr>=2.0.1) (1.8.0)\n",
      "Requirement already satisfied: openpyxl in c:\\users\\frees\\anaconda3\\lib\\site-packages (from paddleocr>=2.0.1) (3.0.5)\n",
      "Requirement already satisfied: opencv-contrib-python==4.4.0.46 in c:\\users\\frees\\anaconda3\\lib\\site-packages (from paddleocr>=2.0.1) (4.4.0.46)\n",
      "Requirement already satisfied: tqdm in c:\\users\\frees\\anaconda3\\lib\\site-packages (from paddleocr>=2.0.1) (4.50.2)\n",
      "Requirement already satisfied: python-Levenshtein in c:\\users\\frees\\anaconda3\\lib\\site-packages (from paddleocr>=2.0.1) (0.12.2)\n",
      "Requirement already satisfied: opencv-python in c:\\users\\frees\\anaconda3\\lib\\site-packages (from imgaug==0.4.0->paddleocr>=2.0.1) (4.5.5.64)\n",
      "Requirement already satisfied: imageio in c:\\users\\frees\\anaconda3\\lib\\site-packages (from imgaug==0.4.0->paddleocr>=2.0.1) (2.9.0)\n",
      "Requirement already satisfied: matplotlib in c:\\users\\frees\\anaconda3\\lib\\site-packages (from imgaug==0.4.0->paddleocr>=2.0.1) (3.3.2)\n",
      "Requirement already satisfied: scipy in c:\\users\\frees\\anaconda3\\lib\\site-packages (from imgaug==0.4.0->paddleocr>=2.0.1) (1.5.2)\n",
      "Requirement already satisfied: Pillow in c:\\users\\frees\\anaconda3\\lib\\site-packages (from imgaug==0.4.0->paddleocr>=2.0.1) (9.1.0)\n",
      "Requirement already satisfied: six in c:\\users\\frees\\anaconda3\\lib\\site-packages (from imgaug==0.4.0->paddleocr>=2.0.1) (1.15.0)\n",
      "Requirement already satisfied: seqeval in c:\\users\\frees\\anaconda3\\lib\\site-packages (from paddlenlp>=2.2.1->paddleocr>=2.0.1) (1.2.2)\n",
      "Requirement already satisfied: jieba in c:\\users\\frees\\anaconda3\\lib\\site-packages (from paddlenlp>=2.2.1->paddleocr>=2.0.1) (0.42.1)\n",
      "Requirement already satisfied: h5py in c:\\users\\frees\\anaconda3\\lib\\site-packages (from paddlenlp>=2.2.1->paddleocr>=2.0.1) (2.10.0)\n",
      "Requirement already satisfied: colorama in c:\\users\\frees\\anaconda3\\lib\\site-packages (from paddlenlp>=2.2.1->paddleocr>=2.0.1) (0.4.4)\n",
      "Requirement already satisfied: multiprocess in c:\\users\\frees\\anaconda3\\lib\\site-packages (from paddlenlp>=2.2.1->paddleocr>=2.0.1) (0.70.12.2)\n",
      "Requirement already satisfied: colorlog in c:\\users\\frees\\anaconda3\\lib\\site-packages (from paddlenlp>=2.2.1->paddleocr>=2.0.1) (6.6.0)\n",
      "Requirement already satisfied: networkx>=2.0 in c:\\users\\frees\\anaconda3\\lib\\site-packages (from scikit-image->paddleocr>=2.0.1) (2.5)\n",
      "Requirement already satisfied: tifffile>=2019.7.26 in c:\\users\\frees\\anaconda3\\lib\\site-packages (from scikit-image->paddleocr>=2.0.1) (2020.10.1)\n",
      "Requirement already satisfied: PyWavelets>=1.1.1 in c:\\users\\frees\\anaconda3\\lib\\site-packages (from scikit-image->paddleocr>=2.0.1) (1.1.1)\n",
      "Requirement already satisfied: jdcal in c:\\users\\frees\\anaconda3\\lib\\site-packages (from openpyxl->paddleocr>=2.0.1) (1.4.1)\n",
      "Requirement already satisfied: et-xmlfile in c:\\users\\frees\\anaconda3\\lib\\site-packages (from openpyxl->paddleocr>=2.0.1) (1.0.1)\n",
      "Requirement already satisfied: cssselect in c:\\users\\frees\\anaconda3\\lib\\site-packages (from premailer->paddleocr>=2.0.1) (1.1.0)\n",
      "Requirement already satisfied: cachetools in c:\\users\\frees\\anaconda3\\lib\\site-packages (from premailer->paddleocr>=2.0.1) (4.2.2)\n",
      "Requirement already satisfied: cssutils in c:\\users\\frees\\anaconda3\\lib\\site-packages (from premailer->paddleocr>=2.0.1) (2.3.0)\n",
      "Requirement already satisfied: requests in c:\\users\\frees\\anaconda3\\lib\\site-packages (from premailer->paddleocr>=2.0.1) (2.24.0)\n",
      "Requirement already satisfied: setuptools in c:\\users\\frees\\anaconda3\\lib\\site-packages (from python-Levenshtein->paddleocr>=2.0.1) (50.3.1.post20201107)\n",
      "Requirement already satisfied: bce-python-sdk in c:\\users\\frees\\anaconda3\\lib\\site-packages (from visualdl->paddleocr>=2.0.1) (0.8.64)\n",
      "Requirement already satisfied: flake8>=3.7.9 in c:\\users\\frees\\anaconda3\\lib\\site-packages (from visualdl->paddleocr>=2.0.1) (3.8.4)\n",
      "Requirement already satisfied: pandas in c:\\users\\frees\\anaconda3\\lib\\site-packages (from visualdl->paddleocr>=2.0.1) (1.3.5)\n",
      "Requirement already satisfied: pre-commit in c:\\users\\frees\\anaconda3\\lib\\site-packages (from visualdl->paddleocr>=2.0.1) (2.17.0)\n",
      "Requirement already satisfied: flask>=1.1.1 in c:\\users\\frees\\anaconda3\\lib\\site-packages (from visualdl->paddleocr>=2.0.1) (1.1.2)\n",
      "Requirement already satisfied: shellcheck-py in c:\\users\\frees\\anaconda3\\lib\\site-packages (from visualdl->paddleocr>=2.0.1) (0.8.0.4)\n",
      "Requirement already satisfied: protobuf>=3.11.0 in c:\\users\\frees\\anaconda3\\lib\\site-packages (from visualdl->paddleocr>=2.0.1) (3.17.3)\n",
      "Requirement already satisfied: Flask-Babel>=1.0.0 in c:\\users\\frees\\anaconda3\\lib\\site-packages (from visualdl->paddleocr>=2.0.1) (2.0.0)\n",
      "Requirement already satisfied: pycodestyle<2.7.0,>=2.6.0a1 in c:\\users\\frees\\anaconda3\\lib\\site-packages (from flake8>=3.7.9->visualdl->paddleocr>=2.0.1) (2.6.0)\n",
      "Requirement already satisfied: mccabe<0.7.0,>=0.6.0 in c:\\users\\frees\\anaconda3\\lib\\site-packages (from flake8>=3.7.9->visualdl->paddleocr>=2.0.1) (0.6.1)\n",
      "Requirement already satisfied: pyflakes<2.3.0,>=2.2.0 in c:\\users\\frees\\anaconda3\\lib\\site-packages (from flake8>=3.7.9->visualdl->paddleocr>=2.0.1) (2.2.0)\n",
      "Requirement already satisfied: Jinja2>=2.10.1 in c:\\users\\frees\\anaconda3\\lib\\site-packages (from flask>=1.1.1->visualdl->paddleocr>=2.0.1) (2.11.2)\n",
      "Requirement already satisfied: Werkzeug>=0.15 in c:\\users\\frees\\anaconda3\\lib\\site-packages (from flask>=1.1.1->visualdl->paddleocr>=2.0.1) (1.0.1)\n",
      "Requirement already satisfied: click>=5.1 in c:\\users\\frees\\anaconda3\\lib\\site-packages (from flask>=1.1.1->visualdl->paddleocr>=2.0.1) (7.1.2)\n",
      "Requirement already satisfied: itsdangerous>=0.24 in c:\\users\\frees\\anaconda3\\lib\\site-packages (from flask>=1.1.1->visualdl->paddleocr>=2.0.1) (1.1.0)\n",
      "Requirement already satisfied: pytz in c:\\users\\frees\\anaconda3\\lib\\site-packages (from Flask-Babel>=1.0.0->visualdl->paddleocr>=2.0.1) (2020.1)\n",
      "Requirement already satisfied: Babel>=2.3 in c:\\users\\frees\\anaconda3\\lib\\site-packages (from Flask-Babel>=1.0.0->visualdl->paddleocr>=2.0.1) (2.8.1)\n",
      "Requirement already satisfied: certifi>=2020.06.20 in c:\\users\\frees\\anaconda3\\lib\\site-packages (from matplotlib->imgaug==0.4.0->paddleocr>=2.0.1) (2021.10.8)\n",
      "Requirement already satisfied: pyparsing!=2.0.4,!=2.1.2,!=2.1.6,>=2.0.3 in c:\\users\\frees\\anaconda3\\lib\\site-packages (from matplotlib->imgaug==0.4.0->paddleocr>=2.0.1) (2.4.7)\n",
      "Requirement already satisfied: cycler>=0.10 in c:\\users\\frees\\anaconda3\\lib\\site-packages (from matplotlib->imgaug==0.4.0->paddleocr>=2.0.1) (0.10.0)\n",
      "Requirement already satisfied: python-dateutil>=2.1 in c:\\users\\frees\\anaconda3\\lib\\site-packages (from matplotlib->imgaug==0.4.0->paddleocr>=2.0.1) (2.8.1)\n",
      "Requirement already satisfied: kiwisolver>=1.0.1 in c:\\users\\frees\\anaconda3\\lib\\site-packages (from matplotlib->imgaug==0.4.0->paddleocr>=2.0.1) (1.3.0)\n",
      "Requirement already satisfied: decorator>=4.3.0 in c:\\users\\frees\\anaconda3\\lib\\site-packages (from networkx>=2.0->scikit-image->paddleocr>=2.0.1) (4.4.2)\n",
      "Requirement already satisfied: pycryptodome>=3.8.0 in c:\\users\\frees\\anaconda3\\lib\\site-packages (from bce-python-sdk->visualdl->paddleocr>=2.0.1) (3.14.1)\n",
      "Requirement already satisfied: future>=0.6.0 in c:\\users\\frees\\anaconda3\\lib\\site-packages (from bce-python-sdk->visualdl->paddleocr>=2.0.1) (0.18.2)\n",
      "Requirement already satisfied: dill>=0.3.4 in c:\\users\\frees\\anaconda3\\lib\\site-packages (from multiprocess->paddlenlp>=2.2.1->paddleocr>=2.0.1) (0.3.4)\n",
      "Requirement already satisfied: toml in c:\\users\\frees\\anaconda3\\lib\\site-packages (from pre-commit->visualdl->paddleocr>=2.0.1) (0.10.1)\n",
      "Requirement already satisfied: pyyaml>=5.1 in c:\\users\\frees\\anaconda3\\lib\\site-packages (from pre-commit->visualdl->paddleocr>=2.0.1) (5.3.1)\n",
      "Requirement already satisfied: identify>=1.0.0 in c:\\users\\frees\\anaconda3\\lib\\site-packages (from pre-commit->visualdl->paddleocr>=2.0.1) (2.4.9)\n",
      "Requirement already satisfied: nodeenv>=0.11.1 in c:\\users\\frees\\anaconda3\\lib\\site-packages (from pre-commit->visualdl->paddleocr>=2.0.1) (1.6.0)\n",
      "Requirement already satisfied: cfgv>=2.0.0 in c:\\users\\frees\\anaconda3\\lib\\site-packages (from pre-commit->visualdl->paddleocr>=2.0.1) (3.3.1)\n",
      "Requirement already satisfied: virtualenv>=20.0.8 in c:\\users\\frees\\anaconda3\\lib\\site-packages (from pre-commit->visualdl->paddleocr>=2.0.1) (20.13.1)\n",
      "Requirement already satisfied: urllib3!=1.25.0,!=1.25.1,<1.26,>=1.21.1 in c:\\users\\frees\\anaconda3\\lib\\site-packages (from requests->premailer->paddleocr>=2.0.1) (1.25.11)\n",
      "Requirement already satisfied: chardet<4,>=3.0.2 in c:\\users\\frees\\anaconda3\\lib\\site-packages (from requests->premailer->paddleocr>=2.0.1) (3.0.4)\n",
      "Requirement already satisfied: idna<3,>=2.5 in c:\\users\\frees\\anaconda3\\lib\\site-packages (from requests->premailer->paddleocr>=2.0.1) (2.10)\n",
      "Requirement already satisfied: scikit-learn>=0.21.3 in c:\\users\\frees\\anaconda3\\lib\\site-packages (from seqeval->paddlenlp>=2.2.1->paddleocr>=2.0.1) (0.23.2)\n",
      "Requirement already satisfied: MarkupSafe>=0.23 in c:\\users\\frees\\anaconda3\\lib\\site-packages (from Jinja2>=2.10.1->flask>=1.1.1->visualdl->paddleocr>=2.0.1) (1.1.1)\n",
      "Requirement already satisfied: threadpoolctl>=2.0.0 in c:\\users\\frees\\anaconda3\\lib\\site-packages (from scikit-learn>=0.21.3->seqeval->paddlenlp>=2.2.1->paddleocr>=2.0.1) (2.1.0)\n",
      "Requirement already satisfied: joblib>=0.11 in c:\\users\\frees\\anaconda3\\lib\\site-packages (from scikit-learn>=0.21.3->seqeval->paddlenlp>=2.2.1->paddleocr>=2.0.1) (0.17.0)\n",
      "Requirement already satisfied: platformdirs<3,>=2 in c:\\users\\frees\\anaconda3\\lib\\site-packages (from virtualenv>=20.0.8->pre-commit->visualdl->paddleocr>=2.0.1) (2.5.0)\n",
      "Requirement already satisfied: filelock<4,>=3.2 in c:\\users\\frees\\anaconda3\\lib\\site-packages (from virtualenv>=20.0.8->pre-commit->visualdl->paddleocr>=2.0.1) (3.4.2)\n",
      "Requirement already satisfied: distlib<1,>=0.3.1 in c:\\users\\frees\\anaconda3\\lib\\site-packages (from virtualenv>=20.0.8->pre-commit->visualdl->paddleocr>=2.0.1) (0.3.4)\n"
     ]
    },
    {
     "name": "stderr",
     "output_type": "stream",
     "text": [
      "WARNING: Ignoring invalid distribution -pencv-python (c:\\users\\frees\\anaconda3\\lib\\site-packages)\n",
      "WARNING: Ignoring invalid distribution -pencv-python (c:\\users\\frees\\anaconda3\\lib\\site-packages)\n",
      "WARNING: Ignoring invalid distribution -pencv-python (c:\\users\\frees\\anaconda3\\lib\\site-packages)\n",
      "WARNING: Ignoring invalid distribution -pencv-python (c:\\users\\frees\\anaconda3\\lib\\site-packages)\n",
      "WARNING: Ignoring invalid distribution -pencv-python (c:\\users\\frees\\anaconda3\\lib\\site-packages)\n"
     ]
    }
   ],
   "source": [
    "!pip install \"paddleocr>=2.0.1\""
   ]
  },
  {
   "cell_type": "code",
   "execution_count": 9,
   "metadata": {},
   "outputs": [
    {
     "name": "stderr",
     "output_type": "stream",
     "text": [
      "C:\\Users\\Frees\\anaconda3\\lib\\site-packages\\paddle\\vision\\transforms\\functional_pil.py:36: DeprecationWarning: NEAREST is deprecated and will be removed in Pillow 10 (2023-07-01). Use Resampling.NEAREST or Dither.NONE instead.\n",
      "  'nearest': Image.NEAREST,\n",
      "C:\\Users\\Frees\\anaconda3\\lib\\site-packages\\paddle\\vision\\transforms\\functional_pil.py:37: DeprecationWarning: BILINEAR is deprecated and will be removed in Pillow 10 (2023-07-01). Use Resampling.BILINEAR instead.\n",
      "  'bilinear': Image.BILINEAR,\n",
      "C:\\Users\\Frees\\anaconda3\\lib\\site-packages\\paddle\\vision\\transforms\\functional_pil.py:38: DeprecationWarning: BICUBIC is deprecated and will be removed in Pillow 10 (2023-07-01). Use Resampling.BICUBIC instead.\n",
      "  'bicubic': Image.BICUBIC,\n",
      "C:\\Users\\Frees\\anaconda3\\lib\\site-packages\\paddle\\vision\\transforms\\functional_pil.py:39: DeprecationWarning: BOX is deprecated and will be removed in Pillow 10 (2023-07-01). Use Resampling.BOX instead.\n",
      "  'box': Image.BOX,\n",
      "C:\\Users\\Frees\\anaconda3\\lib\\site-packages\\paddle\\vision\\transforms\\functional_pil.py:40: DeprecationWarning: LANCZOS is deprecated and will be removed in Pillow 10 (2023-07-01). Use Resampling.LANCZOS instead.\n",
      "  'lanczos': Image.LANCZOS,\n",
      "C:\\Users\\Frees\\anaconda3\\lib\\site-packages\\paddle\\vision\\transforms\\functional_pil.py:41: DeprecationWarning: HAMMING is deprecated and will be removed in Pillow 10 (2023-07-01). Use Resampling.HAMMING instead.\n",
      "  'hamming': Image.HAMMING\n"
     ]
    },
    {
     "name": "stdout",
     "output_type": "stream",
     "text": [
      "Namespace(benchmark=False, cls_batch_num=6, cls_image_shape='3, 48, 192', cls_model_dir='C:\\\\Users\\\\Frees/.paddleocr/2.4\\\\ocr\\\\cls\\\\ch_ppocr_mobile_v2.0_cls_infer', cls_thresh=0.9, cpu_threads=10, crop_res_save_dir='./output', det=True, det_algorithm='DB', det_db_box_thresh=0.6, det_db_score_mode='fast', det_db_thresh=0.3, det_db_unclip_ratio=1.5, det_east_cover_thresh=0.1, det_east_nms_thresh=0.2, det_east_score_thresh=0.8, det_limit_side_len=960, det_limit_type='max', det_model_dir='C:\\\\Users\\\\Frees/.paddleocr/2.4\\\\ocr\\\\det\\\\ch\\\\ch_PP-OCRv2_det_infer', det_pse_box_thresh=0.85, det_pse_box_type='box', det_pse_min_area=16, det_pse_scale=1, det_pse_thresh=0, det_sast_nms_thresh=0.2, det_sast_polygon=False, det_sast_score_thresh=0.5, draw_img_save_dir='./inference_results', drop_score=0.5, e2e_algorithm='PGNet', e2e_char_dict_path='./ppocr/utils/ic15_dict.txt', e2e_limit_side_len=768, e2e_limit_type='max', e2e_model_dir=None, e2e_pgnet_mode='fast', e2e_pgnet_score_thresh=0.5, e2e_pgnet_valid_set='totaltext', enable_mkldnn=False, gpu_mem=500, help='==SUPPRESS==', image_dir=None, ir_optim=True, label_list=['0', '180'], label_map_path='./vqa/labels/labels_ser.txt', lang='ch', layout_path_model='lp://PubLayNet/ppyolov2_r50vd_dcn_365e_publaynet/config', max_batch_size=10, max_seq_length=512, max_text_length=25, min_subgraph_size=15, mode='structure', model_name_or_path=None, ocr_version='PP-OCRv2', output='./output', precision='fp32', process_id=0, rec=True, rec_algorithm='CRNN', rec_batch_num=6, rec_char_dict_path='PaddleOCR-release-2.4/paddleocr_files/en_rus.txt', rec_image_shape='3, 32, 320', rec_model_dir='PaddleOCR-release-2.4/paddleocr_files', save_crop_res=False, save_log_path='./log_output/', show_log=True, structure_version='STRUCTURE', table_char_dict_path=None, table_char_type='en', table_max_len=488, table_model_dir=None, total_process_num=1, type='ocr', use_angle_cls=False, use_dilation=False, use_gpu=False, use_mp=False, use_onnx=False, use_pdserving=False, use_space_char=True, use_tensorrt=False, vis_font_path='./doc/fonts/simfang.ttf', warmup=False)\n"
     ]
    }
   ],
   "source": [
    "from paddleocr import PaddleOCR\n",
    "# The path of detection and recognition model must contain model and params files\n",
    "path = 'PaddleOCR-release-2.4/'\n",
    "ocr = PaddleOCR(rec_model_dir=path+'paddleocr_files', rec_char_dict_path=path+'paddleocr_files/en_rus.txt')"
   ]
  },
  {
   "cell_type": "code",
   "execution_count": 41,
   "metadata": {},
   "outputs": [
    {
     "name": "stdout",
     "output_type": "stream",
     "text": [
      "м7\n"
     ]
    }
   ],
   "source": [
    "img_path = 'm7.jpg'\n",
    "result = ocr.ocr(img_path, det=False, cls=False)\n",
    "for line in result:\n",
    "    print(line[0])"
   ]
  },
  {
   "cell_type": "code",
   "execution_count": 45,
   "metadata": {},
   "outputs": [
    {
     "name": "stdout",
     "output_type": "stream",
     "text": [
      "True: 15 PaddleOCR: 15\n",
      "True: м86 PaddleOCR: 443\n",
      "True: 38 PaddleOCR: 3\n",
      "True: Б PaddleOCR: 87\n",
      "True: 51 PaddleOCR: 57\n",
      "True: 69 PaddleOCR: Б\n",
      "True: 2 PaddleOCR: 99\n",
      "True: м2 PaddleOCR: 1А\n",
      "True: 22 PaddleOCR: 2\n",
      "True: 833 PaddleOCR: Б\n",
      "True: м27 PaddleOCR: 1\n",
      "True: 31 PaddleOCR: 3\n",
      "True: 31 PaddleOCR: 5\n",
      "True: 30 PaddleOCR: 30\n",
      "True: т34 PaddleOCR: 174\n",
      "True: 11 PaddleOCR: 1\n",
      "True: т34 PaddleOCR: 73\n",
      "True: 24 PaddleOCR: 2А\n",
      "True: 27 PaddleOCR: 20\n",
      "True: 100 PaddleOCR: 108\n",
      "True: 32 PaddleOCR: 2\n",
      "True: 205 PaddleOCR: 205\n",
      "True: 19 PaddleOCR: 43\n",
      "True: 95 PaddleOCR: 5\n",
      "True: 14 PaddleOCR: 103\n"
     ]
    }
   ],
   "source": [
    "for path in os.listdir('test_ocr'):\n",
    "    print(\"True: \" + truth[path] + \" PaddleOCR: \" + str(ocr.ocr('test_ocr/' + path, det=False, cls=False)[0][0]))"
   ]
  },
  {
   "cell_type": "code",
   "execution_count": 10,
   "metadata": {},
   "outputs": [
    {
     "name": "stdout",
     "output_type": "stream",
     "text": [
      "True: 15 PaddleOCR: 15\n",
      "True: м86 PaddleOCR: 443\n",
      "True: 38 PaddleOCR: 3\n",
      "True: Б PaddleOCR: 87\n",
      "True: 51 PaddleOCR: 57\n",
      "True: 69 PaddleOCR: Б\n",
      "True: 2 PaddleOCR: 99\n",
      "True: м2 PaddleOCR: 1А\n",
      "True: 22 PaddleOCR: 2\n",
      "True: 833 PaddleOCR: Б\n",
      "True: м27 PaddleOCR: 1\n",
      "True: 31 PaddleOCR: 3\n",
      "True: 31 PaddleOCR: 5\n",
      "True: 30 PaddleOCR: 30\n",
      "True: т34 PaddleOCR: 174\n",
      "True: 11 PaddleOCR: 1\n",
      "True: т34 PaddleOCR: 73\n",
      "True: 24 PaddleOCR: 2А\n",
      "True: 27 PaddleOCR: 20\n",
      "True: 100 PaddleOCR: 108\n",
      "True: 32 PaddleOCR: 2\n",
      "True: 205 PaddleOCR: 205\n",
      "True: 19 PaddleOCR: 43\n",
      "True: 95 PaddleOCR: 5\n",
      "True: 14 PaddleOCR: 103\n",
      "--- 0.5273501873016357 seconds ---\n"
     ]
    }
   ],
   "source": [
    "import time\n",
    "start_time = time.time()\n",
    "for path in os.listdir('test_ocr'):\n",
    "    print(\"True: \" + truth[path] + \" PaddleOCR: \" + str(ocr.ocr('test_ocr/' + path, det=False, cls=False)[0][0]))\n",
    "print(\"--- %s seconds ---\" % (time.time() - start_time))"
   ]
  },
  {
   "cell_type": "code",
   "execution_count": null,
   "metadata": {},
   "outputs": [],
   "source": []
  }
 ],
 "metadata": {
  "kernelspec": {
   "display_name": "Python 3",
   "language": "python",
   "name": "python3"
  },
  "language_info": {
   "codemirror_mode": {
    "name": "ipython",
    "version": 3
   },
   "file_extension": ".py",
   "mimetype": "text/x-python",
   "name": "python",
   "nbconvert_exporter": "python",
   "pygments_lexer": "ipython3",
   "version": "3.8.5"
  }
 },
 "nbformat": 4,
 "nbformat_minor": 4
}
